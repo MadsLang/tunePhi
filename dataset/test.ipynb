{
 "cells": [
  {
   "cell_type": "code",
   "execution_count": 2,
   "metadata": {},
   "outputs": [],
   "source": [
    "from datasets import load_dataset, Dataset, concatenate_datasets\n",
    "import random\n",
    "import json\n",
    "import re\n",
    "from openai import OpenAI\n",
    "import bertopic\n",
    "import datashader\n",
    "import colorcet\n",
    "from sentence_transformers import SentenceTransformer\n",
    "from bertopic import BERTopic\n",
    "from sklearn.feature_extraction.text import CountVectorizer\n",
    "import numpy as np\n",
    "import pandas as pd\n",
    "from umap import UMAP"
   ]
  },
  {
   "cell_type": "code",
   "execution_count": null,
   "metadata": {},
   "outputs": [],
   "source": [
    "class SyntheticDataClient:\n",
    "    def __init__(self):\n",
    "        self.prompts_with_context = [\n",
    "            \"Opsummer teksten til en enkelt overskrift\",\n",
    "            \"Hvad er tekstens hovedpointe?\",\n",
    "            \"Giv mig de 3 vigtigste pointer fra denne tekst\",\n",
    "            \"Hvilke kilder eller referencer bruges i denne tekst, og hvordan påvirker de dens troværdighed?\",\n",
    "            \"Hvad er den overordnede struktur eller organisering af denne tekst?\",\n",
    "            \"Hvad handler denne tekst om? Skriv det med én sætning\",\n",
    "            \"Identificer det vigtigste emne i denne tekst.\"\n",
    "            \"Beskriv indholdet i denne tekst med 1 ord\",\n",
    "            \"Lav en gåde der handler om det samme som denne tekst.\",\n",
    "            \"Skriv denne tekst om til et digt\",\n",
    "            \"Omskriv denne tekst så den har et mere simpelt sprog\",\n",
    "            \"Hvilke stilistiske træk kendetegner denne tekst?\",\n",
    "            \"Kan du lave denne tekst om, så den er mere formel?\",\n",
    "            \"Hvilke alternative titler kunne man give til denne tekst, der stadigvæk fanger dens essens?\",\n",
    "            \"Hvordan ville denne tekst blive modtaget af forskellige kulturer eller samfund i forskellige dele af verden?\",\n",
    "            \"Hvis denne tekst var en rejse, hvilke destinationer ville den inkludere, og hvad ville være højdepunkterne på rejsen?\",\n",
    "            \"Hvad er den overordnede betydning eller relevans af de præsenterede fakta inden for det bredere samfundsmæssige, videnskabelige eller kulturelle kontekst?\",\n",
    "            \"Kan du formulere de mest essentielle indsigter fra denne tekst i et mere akademisk sprog?\",\n",
    "            \"Jeg forstår ikke denne tekst. Kan du forklare den for mig?\",\n",
    "            \"Skriv en nyhedsartikel, der handler om det samme som denne tekst.\"\n",
    "        ]\n",
    "\n",
    "        self.prompt_without_context = [\n",
    "            \"Kan du formulere et spørgsmål og et svar til denne tekst?\",\n",
    "            \"Skriv noget, som en bruger kunne spørge en chatbot om og hvad chatbotten ville svare.\"\n",
    "        ]\n",
    "\n",
    "        self.client = OpenAI()\n",
    "        self.model = \"gpt-4\"\n",
    "        self.system_prompt = \"You are a helpful assistant.\"\n",
    "\n",
    "    def call_llm(self, prompt: str):\n",
    "        completion = self.client.chat.completions.create(\n",
    "            model=self.model,\n",
    "            messages=[\n",
    "                {\"role\": \"system\", \"content\": self.system_prompt},\n",
    "                {\"role\": \"user\", \"content\": prompt}\n",
    "            ]\n",
    "        )\n",
    "        return completion.choices[0].message.content\n",
    "\n",
    "    def sample(self, txt: str) -> str:\n",
    "\n",
    "        if random.choice([True, False]): \n",
    "            # Do not include context\n",
    "            prompt = f\"\"\"\n",
    "            {txt}\n",
    "            \n",
    "            {random.choice(self.prompt_without_context)} Skriv det som JSON med formatet: {{\"user\": \"\", \"answer\": \"\"}}\n",
    "            \"\"\"\n",
    "\n",
    "            response_from_llm = self.call_llm(prompt)\n",
    "\n",
    "            response = json.loads(response_from_llm)\n",
    "\n",
    "            return {\"prompt\": response['user'], \"completion\": response['answer']}\n",
    "\n",
    "        else:\n",
    "            # Include context\n",
    "            if random.choice([True, False]):\n",
    "                # Context first\n",
    "                prompt = f\"\"\"\n",
    "                {txt}\n",
    "\n",
    "                {random.choice(self.prompts_with_context)}   \n",
    "                \"\"\"\n",
    "            else:\n",
    "                # Context last\n",
    "                prompt = f\"\"\"\n",
    "                {random.choice(self.prompts_with_context)} \n",
    "\n",
    "                {txt}  \n",
    "                \"\"\"\n",
    "\n",
    "            response = self.call_llm(prompt)\n",
    "\n",
    "            return {\"prompt\": prompt, \"completion\": response}\n"
   ]
  },
  {
   "cell_type": "code",
   "execution_count": null,
   "metadata": {},
   "outputs": [],
   "source": []
  },
  {
   "cell_type": "code",
   "execution_count": null,
   "metadata": {},
   "outputs": [],
   "source": []
  },
  {
   "cell_type": "code",
   "execution_count": 3,
   "metadata": {},
   "outputs": [],
   "source": [
    "dawiki = load_dataset('alexandrainst/scandi-wiki', 'da')"
   ]
  },
  {
   "cell_type": "code",
   "execution_count": 4,
   "metadata": {},
   "outputs": [],
   "source": [
    "embedding_model_name = 'paraphrase-multilingual-mpnet-base-v2'\n",
    "RANDOM_STATE = 666\n",
    "np.random.seed(RANDOM_STATE)\n",
    "\n",
    "sentence_model = SentenceTransformer(embedding_model_name)\n",
    "\n",
    "docs = dawiki['train']['text']"
   ]
  },
  {
   "cell_type": "code",
   "execution_count": 5,
   "metadata": {},
   "outputs": [
    {
     "name": "stdout",
     "output_type": "stream",
     "text": [
      "(287216, 768)\n"
     ]
    }
   ],
   "source": [
    "# embeds = sentence_model.encode(docs, show_progress_bar=True)\n",
    "# print(embeds.shape)\n",
    "\n",
    "# np.save(f\"dataset/embeddings/{embedding_model_name}\", embeds)\n",
    "\n",
    "embeds = np.load(f\"dataset/embeddings/{embedding_model_name}.npy\")\n",
    "print(embeds.shape)"
   ]
  },
  {
   "cell_type": "code",
   "execution_count": 6,
   "metadata": {},
   "outputs": [],
   "source": [
    "with open(\"dataset/danish_stopwords.txt\", \"r\") as f:\n",
    "    stopwords = f.readlines()\n",
    "\n",
    "stopwords = [i.replace('\\n', '') for i in stopwords]\n",
    "\n",
    "vectorizer_model = CountVectorizer(ngram_range=(1,2), stop_words=stopwords, min_df=10)"
   ]
  },
  {
   "cell_type": "code",
   "execution_count": 7,
   "metadata": {},
   "outputs": [
    {
     "ename": "",
     "evalue": "",
     "output_type": "error",
     "traceback": [
      "\u001b[1;31mThe Kernel crashed while executing code in the current cell or a previous cell. \n",
      "\u001b[1;31mPlease review the code in the cell(s) to identify a possible cause of the failure. \n",
      "\u001b[1;31mClick <a href='https://aka.ms/vscodeJupyterKernelCrash'>here</a> for more info. \n",
      "\u001b[1;31mView Jupyter <a href='command:jupyter.viewOutput'>log</a> for further details."
     ]
    }
   ],
   "source": [
    "umap_model = UMAP(\n",
    "    n_components=2,\n",
    "    low_memory=True, \n",
    "    random_state=RANDOM_STATE\n",
    ")\n",
    "\n",
    "topic_model = BERTopic(\n",
    "    language=\"multilingual\",\n",
    "    umap_model=umap_model,\n",
    "    vectorizer_model=vectorizer_model,\n",
    "    calculate_probabilities=False,\n",
    ")\n",
    "topics, _ = topic_model.fit_transform(docs, embeds) # <- takes ~17-18min to run"
   ]
  },
  {
   "cell_type": "code",
   "execution_count": 20,
   "metadata": {},
   "outputs": [],
   "source": [
    "label_dict = {}\n",
    "for label in topic_model.generate_topic_labels():\n",
    "    k,v = label.split('_', 1)\n",
    "    label_dict[k] = v\n",
    "\n",
    "topics_with_labels = [label_dict[str(x)] if x != -1 else 'noise' for x in topics]\n",
    "\n",
    "umap_model = topic_model.umap_model\n",
    "xy = Dataset.from_dict({\n",
    "    \"x\": umap_model.embedding_[:,0], \n",
    "    \"y\": umap_model.embedding_[:,1],\n",
    "    \"topics\": topics_with_labels,\n",
    "})\n",
    "\n",
    "dawiki_new = concatenate_datasets([dawiki['train'], xy], axis=1)\n",
    "dawiki_new.save_to_disk('dataset/da-wiki-embed')"
   ]
  },
  {
   "cell_type": "code",
   "execution_count": 23,
   "metadata": {},
   "outputs": [],
   "source": [
    "import datamapplot\n",
    "import urllib.parse as urlp\n",
    "\n",
    "\n",
    "fig, ax = datamapplot.create_interactive_plot(\n",
    "    np.array([dawiki['x'], dawiki['y']]), \n",
    "    dawiki['topics'],\n",
    "    hover_text=dawiki['title']\n",
    "    noise_label=\"noise\",\n",
    "    font_family='Arial',\n",
    "    on_click=\"window.open(`http://da.wikipedia.org/wiki/\\\"{hover_text}\\\"`)\"\n",
    "    enable_search=True,\n",
    "    # label_font_size=14,\n",
    "    # label_margin_factor=3.0\n",
    ")"
   ]
  }
 ],
 "metadata": {
  "kernelspec": {
   "display_name": ".venv",
   "language": "python",
   "name": "python3"
  },
  "language_info": {
   "codemirror_mode": {
    "name": "ipython",
    "version": 3
   },
   "file_extension": ".py",
   "mimetype": "text/x-python",
   "name": "python",
   "nbconvert_exporter": "python",
   "pygments_lexer": "ipython3",
   "version": "undefined.undefined.undefined"
  }
 },
 "nbformat": 4,
 "nbformat_minor": 2
}
